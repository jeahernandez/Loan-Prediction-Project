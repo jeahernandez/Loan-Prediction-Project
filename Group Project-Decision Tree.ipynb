{
 "cells": [
  {
   "cell_type": "code",
   "execution_count": 96,
   "metadata": {},
   "outputs": [
    {
     "data": {
      "text/plain": [
       "Y    288\n",
       "N    141\n",
       "Name: Loan_Status, dtype: int64"
      ]
     },
     "execution_count": 96,
     "metadata": {},
     "output_type": "execute_result"
    }
   ],
   "source": [
    "#Classification Problem Example\n",
    "\n",
    "# importing necessary libraries\n",
    "import numpy as np\n",
    "import pandas as pd\n",
    "from sklearn.metrics import confusion_matrix\n",
    "from sklearn.model_selection import train_test_split\n",
    "from sklearn import datasets\n",
    "from sklearn.metrics import plot_confusion_matrix\n",
    "import matplotlib.pyplot as plt\n",
    "from sklearn.metrics import precision_score\n",
    "from sklearn.metrics import recall_score\n",
    "from sklearn import preprocessing\n",
    "\n",
    "# loading the iris dataset using sklearn (sklearn.utils.Bunch object)\n",
    "train_dataset = pd.read_csv('train_u6lujuX_CVtuZ9i.csv')\n",
    "train_dataset.dropna()\n",
    "remap = {\n",
    "    \"Gender\": {\"Male\": 0, \"Female\": 1},\n",
    "    \"Married\": {\"Yes\": 0, \"No\": 1},\n",
    "    \"Education\": {\"Graduate\": 0, \"Not Graduate\": 1},\n",
    "    \"Self_Employed\": {\"Yes\": 0, \"No\": 1},\n",
    "    \"Property_Area\": {\"Urban\": 0, \"Rural\":1, \"Semiurban\":2}\n",
    "}\n",
    "train_dataset= train_dataset.replace(remap)\n",
    "# for col in train_dataset.columns:\n",
    "#     if train_dataset[col].isnull().values.any() == True:\n",
    "# #         print(col)\n",
    "#         train_dataset[col] = train_dataset[col].fillna(0)\n",
    "# for col in train_dataset.columns:\n",
    "#     if train_dataset[col].isnull().values.any() == True:\n",
    "#         print(col)\n",
    "train_dataset = train_dataset.drop('Loan_ID', axis = 1)\n",
    "\n",
    "for col in train_dataset.columns:\n",
    "    if train_dataset[col].isnull().values.any() == True:\n",
    "#         print(col)\n",
    "        train_dataset[col] = train_dataset[col].fillna(0)\n",
    "for col in train_dataset.columns:\n",
    "    if train_dataset[col].isnull().values.any() == True:\n",
    "        print(col)\n",
    "\n",
    "train, val = train_test_split(train_dataset, test_size=0.3, random_state=0)\n",
    "\n",
    "# X_train=train_dataset.iloc[:, 1:12].values\n",
    "# y_train=train_dataset.iloc[:,12].values\n",
    "# X_train=train.iloc[:, 1:12].values\n",
    "# y_train=train.iloc[:,12].values\n",
    "# X_val=val.iloc[:, 1:12].values\n",
    "# y_val=val.iloc[:,12].values\n",
    "# test_dataset = pd.read_csv('test_Y3wMUE5_7gLdaTN.csv')\n",
    "# X_test=test_dataset.iloc[:, 1:12].values\n",
    "\n",
    "\n",
    "X_train, y_train = train.copy().drop(columns=['Loan_Status']), train['Loan_Status']\n",
    "X_val, y_val = val.copy().drop(columns=['Loan_Status']), val['Loan_Status']\n",
    "y_train.value_counts()\n",
    "\n",
    "\n",
    "# for col in train_dataset.columns:\n",
    "#     if train_dataset[col].isnull().values.any() == True:\n",
    "# #         print(col)\n",
    "#         train_dataset[col] = train_dataset[col].fillna(0)\n",
    "# for col in train_dataset.columns:\n",
    "#     if train_dataset[col].isnull().values.any() == True:\n",
    "#         print(col)\n",
    "\n",
    "\n",
    "# X_train=train.iloc[:, 1:12].values\n",
    "# y_train=train.iloc[:,12].values\n",
    "\n",
    "# print(y_train)\n",
    "\n",
    "\n",
    "\n",
    "# test_dataset= test_dataset.replace(remap).head()\n",
    "# for col in test_dataset.columns:\n",
    "#     if test_dataset[col].isnull().values.any() == True:\n",
    "# #         print(col)\n",
    "#         test_dataset[col] = test_dataset[col].fillna(0)\n",
    "# for col in test_dataset.columns:\n",
    "#     if test_dataset[col].isnull().values.any() == True:\n",
    "#         print(col)\n",
    "\n",
    "# X_test=test_dataset.iloc[:, 1:12].values\n",
    "# # y_train=test_dataset.iloc[:,12].values \n",
    "# print(test_dataset)"
   ]
  },
  {
   "cell_type": "code",
   "execution_count": 114,
   "metadata": {},
   "outputs": [
    {
     "name": "stdout",
     "output_type": "stream",
     "text": [
      "[[125  16]\n",
      " [ 12 276]]\n"
     ]
    },
    {
     "data": {
      "image/png": "[encoded data removed]",
      "text/plain": [
       "<Figure size 432x288 with 2 Axes>"
      ]
     },
     "metadata": {
      "needs_background": "light"
     },
     "output_type": "display_data"
    }
   ],
   "source": [
    "\n",
    "# train_test_split (from sklearn) Splits arrays or matrices into random train and test subsets\n",
    "# X, y: numpy.ndarray is a multidimensional, homogeneous array of fixed-size items.\n",
    "# random_state controls the shuffling applied to the data before applying the split. 0 does normal random of all data.\n",
    "# The default split size in sklearn. model_selection. train_test_split are 75% training and 25% testing data split.\n",
    "\n",
    "# Using the training set, let's train a DescisionTreeClassifier\n",
    "from sklearn.tree import DecisionTreeClassifier\n",
    "dtree_model = DecisionTreeClassifier(max_depth = 10).fit(X_train, y_train)\n",
    "# dtree_model = DecisionTreeClassifier().fit(X_train, y_train)\n",
    "# dtree_model = DecisionTreeClassifier().fit(X_train, y_train)\n",
    "# max_depth is the max depth of the tree. If None, then nodes are expanded until all leaves are pure or until all leaves contain less than min_samples_split samples.\n",
    "dtree_predictions_train = dtree_model.predict(X_train)\n",
    "print(confusion_matrix(y_train,dtree_predictions_train))\n",
    "class_names = ['0' '1']\n",
    "disp = plot_confusion_matrix(dtree_model, X_train, y_train, cmap=plt.cm.Blues)\n",
    "plt.show()\n",
    "# precision = precision_score(y_train, dtree_predictions)#, labels=[0,1], average='micro') \n",
    "# print('Precision: %.3f' % precision)"
   ]
  },
  {
   "cell_type": "code",
   "execution_count": 115,
   "metadata": {},
   "outputs": [
    {
     "name": "stdout",
     "output_type": "stream",
     "text": [
      "[[ 26  25]\n",
      " [ 32 102]]\n"
     ]
    },
    {
     "data": {
      "image/png": "[encoded data removed]",
      "text/plain": [
       "<Figure size 432x288 with 2 Axes>"
      ]
     },
     "metadata": {
      "needs_background": "light"
     },
     "output_type": "display_data"
    },
    {
     "name": "stdout",
     "output_type": "stream",
     "text": [
      "Precision: 0.000\n",
      "Recall: 0.000\n"
     ]
    },
    {
     "name": "stderr",
     "output_type": "stream",
     "text": [
      "/Applications/anaconda3/lib/python3.8/site-packages/numpy/lib/arraysetops.py:576: FutureWarning: elementwise comparison failed; returning scalar instead, but in the future will perform elementwise comparison\n",
      "  mask &= (ar1 != a)\n",
      "/Applications/anaconda3/lib/python3.8/site-packages/sklearn/metrics/_classification.py:1248: UndefinedMetricWarning: Precision is ill-defined and being set to 0.0 due to no predicted samples. Use `zero_division` parameter to control this behavior.\n",
      "  _warn_prf(average, modifier, msg_start, len(result))\n",
      "/Applications/anaconda3/lib/python3.8/site-packages/numpy/lib/arraysetops.py:576: FutureWarning: elementwise comparison failed; returning scalar instead, but in the future will perform elementwise comparison\n",
      "  mask &= (ar1 != a)\n",
      "/Applications/anaconda3/lib/python3.8/site-packages/sklearn/metrics/_classification.py:1248: UndefinedMetricWarning: Recall is ill-defined and being set to 0.0 due to no true samples. Use `zero_division` parameter to control this behavior.\n",
      "  _warn_prf(average, modifier, msg_start, len(result))\n"
     ]
    },
    {
     "data": {
      "text/plain": [
       "'Precision: Appropriate when minimizing false positives is the focus.\\nRecall: Appropriate when minimizing false negatives is the focus. for instance in malware detection recall is very important.\\nLike precision and recall, a poor F-Measure score is 0.0 and a best or perfect F-Measure score is 1.0\\n'"
      ]
     },
     "execution_count": 115,
     "metadata": {},
     "output_type": "execute_result"
    }
   ],
   "source": [
    "\n",
    "# Using the test set, we test the trained model by calling the predict function\n",
    "\n",
    "# print(dtree_predictions)\n",
    "\n",
    "# Using the test set, we test the trained model by calling the predict function\n",
    "dtree_predictions = dtree_model.predict(X_val)\n",
    "# We can now evaluate the performance of the trained model via creating a confusion matrix\n",
    "# confusion matrix describes the performance of a classification model by comparing the predicted labels with actual labels in the test set.\n",
    "cm = confusion_matrix(y_val, dtree_predictions)\n",
    "print(cm)\n",
    "class_names = ['Y' 'N']\n",
    "disp = plot_confusion_matrix(dtree_model, X_val, y_val, cmap=plt.cm.Blues)\n",
    "plt.show()\n",
    "\n",
    "precision = precision_score(y_val, dtree_predictions, labels=[0,1], average='micro') \n",
    "print('Precision: %.3f' % precision)\n",
    "# '''\n",
    "# In an imbalanced classification problem with more than two classes, precision is calculated as the sum of true positives across all classes divided by the sum of true positives and false positives across all classes.\n",
    "# Precision = Sum c in C TruePositives_c / Sum c in C (TruePositives_c + FalsePositives_c)\n",
    "# '''\n",
    "\n",
    "#Recall is a metric that quantifies the number of correct positive predictions made out of all positive predictions that could have been made.\n",
    "# Recall = Sum c in C TruePositives_c / Sum c in C (TruePositives_c + FalseNegatives_c)\n",
    "recall= recall_score(y_val, dtree_predictions,labels=[0,1], average='micro')\n",
    "print('Recall: %.3f' % recall)\n",
    "\n",
    "\n",
    "'''Precision: Appropriate when minimizing false positives is the focus.\n",
    "Recall: Appropriate when minimizing false negatives is the focus. for instance in malware detection recall is very important.\n",
    "Like precision and recall, a poor F-Measure score is 0.0 and a best or perfect F-Measure score is 1.0\n",
    "'''\n",
    "\n"
   ]
  },
  {
   "cell_type": "code",
   "execution_count": null,
   "metadata": {},
   "outputs": [],
   "source": []
  }
 ],
 "metadata": {
  "kernelspec": {
   "display_name": "Python 3",
   "language": "python",
   "name": "python3"
  },
  "language_info": {
   "codemirror_mode": {
    "name": "ipython",
    "version": 3
   },
   "file_extension": ".py",
   "mimetype": "text/x-python",
   "name": "python",
   "nbconvert_exporter": "python",
   "pygments_lexer": "ipython3",
   "version": "3.8.5"
  }
 },
 "nbformat": 4,
 "nbformat_minor": 4
}
