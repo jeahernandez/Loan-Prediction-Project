{
 "cells": [
  {
   "cell_type": "markdown",
   "id": "e771bf13",
   "metadata": {},
   "source": [
    "# Team 8: Loan Prediction Project"
   ]
  },
  {
   "cell_type": "markdown",
   "id": "05230efb",
   "metadata": {},
   "source": [
    "# About the data set\n",
    "1. **Loan ID (ID)**\n",
    "2. Gender (G)\n",
    "3. Dependents (D)\n",
    "4. Education (E)\n",
    "5. Self-Emloyed (SF)\n",
    "6. Applicant Income (AI)\n",
    "7. Co-applicant Income (CI)\n",
    "8. Loan Amount (LA)\n",
    "9. Loan Amount Term (LT)\n",
    "10. Credit History (CH)\n",
    "11. Property Area (PA)\n",
    "12. Loan Status (LS)"
   ]
  },
  {
   "cell_type": "code",
   "execution_count": 2,
   "id": "917b2df3",
   "metadata": {},
   "outputs": [],
   "source": [
    "import pandas as pd\n",
    "import numpy as np\n",
    "from sklearn.model_selection import train_test_split\n",
    "from sklearn.neural_network import MLPClassifier\n",
    "from sklearn.model_selection import GridSearchCV\n",
    "from sklearn.preprocessing import MinMaxScaler\n",
    "from sklearn.preprocessing import LabelEncoder \n",
    "from sklearn.preprocessing import OneHotEncoder"
   ]
  },
  {
   "cell_type": "code",
   "execution_count": 3,
   "id": "31cc9c2d",
   "metadata": {},
   "outputs": [
    {
     "name": "stdout",
     "output_type": "stream",
     "text": [
      "<class 'pandas.core.frame.DataFrame'>\n",
      "RangeIndex: 614 entries, 0 to 613\n",
      "Data columns (total 13 columns):\n",
      " #   Column             Non-Null Count  Dtype  \n",
      "---  ------             --------------  -----  \n",
      " 0   Loan_ID            614 non-null    object \n",
      " 1   Gender             601 non-null    object \n",
      " 2   Married            611 non-null    object \n",
      " 3   Dependents         599 non-null    object \n",
      " 4   Education          614 non-null    object \n",
      " 5   Self_Employed      582 non-null    object \n",
      " 6   ApplicantIncome    614 non-null    int64  \n",
      " 7   CoapplicantIncome  614 non-null    float64\n",
      " 8   LoanAmount         592 non-null    float64\n",
      " 9   Loan_Amount_Term   600 non-null    float64\n",
      " 10  Credit_History     564 non-null    float64\n",
      " 11  Property_Area      614 non-null    object \n",
      " 12  Loan_Status        614 non-null    object \n",
      "dtypes: float64(4), int64(1), object(8)\n",
      "memory usage: 62.5+ KB\n",
      "Dataset :\n",
      "    Loan_ID Gender Married Dependents     Education Self_Employed  \\\n",
      "0  LP001002   Male      No          0      Graduate            No   \n",
      "1  LP001003   Male     Yes          1      Graduate            No   \n",
      "2  LP001005   Male     Yes          0      Graduate           Yes   \n",
      "3  LP001006   Male     Yes          0  Not Graduate            No   \n",
      "4  LP001008   Male      No          0      Graduate            No   \n",
      "\n",
      "   ApplicantIncome  CoapplicantIncome  LoanAmount  Loan_Amount_Term  \\\n",
      "0             5849                0.0         NaN             360.0   \n",
      "1             4583             1508.0       128.0             360.0   \n",
      "2             3000                0.0        66.0             360.0   \n",
      "3             2583             2358.0       120.0             360.0   \n",
      "4             6000                0.0       141.0             360.0   \n",
      "\n",
      "   Credit_History Property_Area Loan_Status  \n",
      "0             1.0         Urban           Y  \n",
      "1             1.0         Rural           N  \n",
      "2             1.0         Urban           Y  \n",
      "3             1.0         Urban           Y  \n",
      "4             1.0         Urban           Y  \n",
      "Loan Status : \n",
      "['Y' 'N']\n",
      "Dimensions of the dataset :  (614, 13)\n",
      "Features of the dataset :\n",
      "         Loan_ID Gender Married Dependents Education Self_Employed  \\\n",
      "count        614    601     611        599       614           582   \n",
      "unique       614      2       2          4         2             2   \n",
      "top     LP001002   Male     Yes          0  Graduate            No   \n",
      "freq           1    489     398        345       480           500   \n",
      "mean         NaN    NaN     NaN        NaN       NaN           NaN   \n",
      "std          NaN    NaN     NaN        NaN       NaN           NaN   \n",
      "min          NaN    NaN     NaN        NaN       NaN           NaN   \n",
      "25%          NaN    NaN     NaN        NaN       NaN           NaN   \n",
      "50%          NaN    NaN     NaN        NaN       NaN           NaN   \n",
      "75%          NaN    NaN     NaN        NaN       NaN           NaN   \n",
      "max          NaN    NaN     NaN        NaN       NaN           NaN   \n",
      "\n",
      "        ApplicantIncome  CoapplicantIncome  LoanAmount  Loan_Amount_Term  \\\n",
      "count        614.000000         614.000000  592.000000         600.00000   \n",
      "unique              NaN                NaN         NaN               NaN   \n",
      "top                 NaN                NaN         NaN               NaN   \n",
      "freq                NaN                NaN         NaN               NaN   \n",
      "mean        5403.459283        1621.245798  146.412162         342.00000   \n",
      "std         6109.041673        2926.248369   85.587325          65.12041   \n",
      "min          150.000000           0.000000    9.000000          12.00000   \n",
      "25%         2877.500000           0.000000  100.000000         360.00000   \n",
      "50%         3812.500000        1188.500000  128.000000         360.00000   \n",
      "75%         5795.000000        2297.250000  168.000000         360.00000   \n",
      "max        81000.000000       41667.000000  700.000000         480.00000   \n",
      "\n",
      "        Credit_History Property_Area Loan_Status  \n",
      "count       564.000000           614         614  \n",
      "unique             NaN             3           2  \n",
      "top                NaN     Semiurban           Y  \n",
      "freq               NaN           233         422  \n",
      "mean          0.842199           NaN         NaN  \n",
      "std           0.364878           NaN         NaN  \n",
      "min           0.000000           NaN         NaN  \n",
      "25%           1.000000           NaN         NaN  \n",
      "50%           1.000000           NaN         NaN  \n",
      "75%           1.000000           NaN         NaN  \n",
      "max           1.000000           NaN         NaN  \n"
     ]
    }
   ],
   "source": [
    "dataset = pd.read_csv(r\"C:\\Users\\jenna\\Downloads\\Loan Data\\train_u6lujuX_CVtuZ9i.csv\")\n",
    "dataset.info()\n",
    "\n",
    "print(\"Dataset :\")\n",
    "print(dataset.head())\n",
    "print(\"Loan Status : \")\n",
    "print(dataset['Loan_Status'].unique())\n",
    "\n",
    "print(\"Dimensions of the dataset : \", dataset.shape)\n",
    "print(\"Features of the dataset :\")\n",
    "print(dataset.describe(include = 'all'))"
   ]
  },
  {
   "cell_type": "markdown",
   "id": "78091373",
   "metadata": {},
   "source": [
    "## Cleaning the data"
   ]
  },
  {
   "cell_type": "code",
   "execution_count": 6,
   "id": "cb770847",
   "metadata": {},
   "outputs": [],
   "source": [
    "# removing all the datapoints that have null values\n",
    "# this would leave us with ~78.18% of the orginal data\n",
    "nan_value = float(\"NaN\")\n",
    "dataset.replace('', nan_value, inplace=True)\n",
    "dataset.dropna(inplace=True)\n",
    "\n",
    "# one-hot encoding the categorical values\n",
    "#g = dataset['Gender']\n",
    "\n",
    "# one hot encoder sklearn\n",
    "# scaler \n",
    "\n",
    "#dataset[['Gender','Married','Dependents','Education','Self_Employed','Property_Area','Loan_Status']] = pd.get_dummies(dataset[['Gender','Married','Dependents','Education','Self_Employed','Property_Area','Loan_Status']])"
   ]
  },
  {
   "cell_type": "markdown",
   "id": "4da2010e",
   "metadata": {},
   "source": [
    "# Neural Network"
   ]
  },
  {
   "cell_type": "code",
   "execution_count": 6,
   "id": "7f76b6c5",
   "metadata": {},
   "outputs": [],
   "source": [
    "X = dataset.drop(columns=['Loan_Status', 'Loan_ID'])\n",
    "Y = dataset['Loan_Status']\n",
    "\n",
    "# splitting the data 80:20\n",
    "train, test = train_test_split(dataset, test_size=0.2, random_state=21)\n"
   ]
  },
  {
   "cell_type": "code",
   "execution_count": null,
   "id": "fda56759",
   "metadata": {},
   "outputs": [],
   "source": []
  }
 ],
 "metadata": {
  "kernelspec": {
   "display_name": "Python 3",
   "language": "python",
   "name": "python3"
  },
  "language_info": {
   "codemirror_mode": {
    "name": "ipython",
    "version": 3
   },
   "file_extension": ".py",
   "mimetype": "text/x-python",
   "name": "python",
   "nbconvert_exporter": "python",
   "pygments_lexer": "ipython3",
   "version": "3.9.5"
  }
 },
 "nbformat": 4,
 "nbformat_minor": 5
}
