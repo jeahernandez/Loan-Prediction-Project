{
 "cells": [
  {
   "cell_type": "markdown",
   "id": "e771bf13",
   "metadata": {},
   "source": [
    "# Team 8: Loan Prediction Project"
   ]
  },
  {
   "cell_type": "markdown",
   "id": "05230efb",
   "metadata": {},
   "source": [
    "# About the data set\n",
    "1. **Loan ID (ID)**\n",
    "2. Gender (G)\n",
    "3. Dependents (D)\n",
    "4. Education (E)\n",
    "5. Self-Emloyed (SF)\n",
    "6. Applicant Income (AI)\n",
    "7. Co-applicant Income (CI)\n",
    "8. Loan Amount (LA)\n",
    "9. Loan Amount Term (LT)\n",
    "10. Credit History (CH)\n",
    "11. Property Area (PA)\n",
    "12. Loan Status (LS)"
   ]
  },
  {
   "cell_type": "code",
   "execution_count": 1,
   "id": "917b2df3",
   "metadata": {},
   "outputs": [],
   "source": [
    "import pandas as pd\n",
    "import numpy as np\n",
    "from sklearn.model_selection import train_test_split\n",
    "from sklearn.neural_network import MLPClassifier\n",
    "from sklearn.model_selection import GridSearchCV\n",
    "from sklearn.preprocessing import MinMaxScaler\n",
    "from sklearn.preprocessing import LabelEncoder \n",
    "from sklearn.preprocessing import OneHotEncoder"
   ]
  },
  {
   "cell_type": "code",
   "execution_count": 4,
   "id": "31cc9c2d",
   "metadata": {
    "scrolled": true
   },
   "outputs": [
    {
     "name": "stdout",
     "output_type": "stream",
     "text": [
      "<class 'pandas.core.frame.DataFrame'>\n",
      "RangeIndex: 614 entries, 0 to 613\n",
      "Data columns (total 13 columns):\n",
      " #   Column             Non-Null Count  Dtype  \n",
      "---  ------             --------------  -----  \n",
      " 0   Loan_ID            614 non-null    object \n",
      " 1   Gender             601 non-null    object \n",
      " 2   Married            611 non-null    object \n",
      " 3   Dependents         599 non-null    object \n",
      " 4   Education          614 non-null    object \n",
      " 5   Self_Employed      582 non-null    object \n",
      " 6   ApplicantIncome    614 non-null    int64  \n",
      " 7   CoapplicantIncome  614 non-null    float64\n",
      " 8   LoanAmount         592 non-null    float64\n",
      " 9   Loan_Amount_Term   600 non-null    float64\n",
      " 10  Credit_History     564 non-null    float64\n",
      " 11  Property_Area      614 non-null    object \n",
      " 12  Loan_Status        614 non-null    object \n",
      "dtypes: float64(4), int64(1), object(8)\n",
      "memory usage: 62.5+ KB\n",
      "Dataset :\n",
      "    Loan_ID Gender Married Dependents     Education Self_Employed  \\\n",
      "0  LP001002   Male      No          0      Graduate            No   \n",
      "1  LP001003   Male     Yes          1      Graduate            No   \n",
      "2  LP001005   Male     Yes          0      Graduate           Yes   \n",
      "3  LP001006   Male     Yes          0  Not Graduate            No   \n",
      "4  LP001008   Male      No          0      Graduate            No   \n",
      "\n",
      "   ApplicantIncome  CoapplicantIncome  LoanAmount  Loan_Amount_Term  \\\n",
      "0             5849                0.0         NaN             360.0   \n",
      "1             4583             1508.0       128.0             360.0   \n",
      "2             3000                0.0        66.0             360.0   \n",
      "3             2583             2358.0       120.0             360.0   \n",
      "4             6000                0.0       141.0             360.0   \n",
      "\n",
      "   Credit_History Property_Area Loan_Status  \n",
      "0             1.0         Urban           Y  \n",
      "1             1.0         Rural           N  \n",
      "2             1.0         Urban           Y  \n",
      "3             1.0         Urban           Y  \n",
      "4             1.0         Urban           Y  \n",
      "Loan Status : \n",
      "['Y' 'N']\n",
      "Dimensions of the dataset :  (614, 13)\n",
      "Features of the dataset :\n",
      "         Loan_ID Gender Married Dependents Education Self_Employed  \\\n",
      "count        614    601     611        599       614           582   \n",
      "unique       614      2       2          4         2             2   \n",
      "top     LP002862   Male     Yes          0  Graduate            No   \n",
      "freq           1    489     398        345       480           500   \n",
      "mean         NaN    NaN     NaN        NaN       NaN           NaN   \n",
      "std          NaN    NaN     NaN        NaN       NaN           NaN   \n",
      "min          NaN    NaN     NaN        NaN       NaN           NaN   \n",
      "25%          NaN    NaN     NaN        NaN       NaN           NaN   \n",
      "50%          NaN    NaN     NaN        NaN       NaN           NaN   \n",
      "75%          NaN    NaN     NaN        NaN       NaN           NaN   \n",
      "max          NaN    NaN     NaN        NaN       NaN           NaN   \n",
      "\n",
      "        ApplicantIncome  CoapplicantIncome  LoanAmount  Loan_Amount_Term  \\\n",
      "count        614.000000         614.000000  592.000000         600.00000   \n",
      "unique              NaN                NaN         NaN               NaN   \n",
      "top                 NaN                NaN         NaN               NaN   \n",
      "freq                NaN                NaN         NaN               NaN   \n",
      "mean        5403.459283        1621.245798  146.412162         342.00000   \n",
      "std         6109.041673        2926.248369   85.587325          65.12041   \n",
      "min          150.000000           0.000000    9.000000          12.00000   \n",
      "25%         2877.500000           0.000000  100.000000         360.00000   \n",
      "50%         3812.500000        1188.500000  128.000000         360.00000   \n",
      "75%         5795.000000        2297.250000  168.000000         360.00000   \n",
      "max        81000.000000       41667.000000  700.000000         480.00000   \n",
      "\n",
      "        Credit_History Property_Area Loan_Status  \n",
      "count       564.000000           614         614  \n",
      "unique             NaN             3           2  \n",
      "top                NaN     Semiurban           Y  \n",
      "freq               NaN           233         422  \n",
      "mean          0.842199           NaN         NaN  \n",
      "std           0.364878           NaN         NaN  \n",
      "min           0.000000           NaN         NaN  \n",
      "25%           1.000000           NaN         NaN  \n",
      "50%           1.000000           NaN         NaN  \n",
      "75%           1.000000           NaN         NaN  \n",
      "max           1.000000           NaN         NaN  \n"
     ]
    }
   ],
   "source": [
    "dataset = pd.read_csv(\"loan_data.csv\")\n",
    "dataset.info()\n",
    "\n",
    "print(\"Dataset :\")\n",
    "print(dataset.head())\n",
    "print(\"Loan Status : \")\n",
    "print(dataset['Loan_Status'].unique())\n",
    "\n",
    "print(\"Dimensions of the dataset : \", dataset.shape)\n",
    "print(\"Features of the dataset :\")\n",
    "print(dataset.describe(include = 'all'))"
   ]
  },
  {
   "cell_type": "code",
   "execution_count": 12,
   "id": "1526fd30",
   "metadata": {},
   "outputs": [
    {
     "data": {
      "text/html": [
       "<div>\n",
       "<style scoped>\n",
       "    .dataframe tbody tr th:only-of-type {\n",
       "        vertical-align: middle;\n",
       "    }\n",
       "\n",
       "    .dataframe tbody tr th {\n",
       "        vertical-align: top;\n",
       "    }\n",
       "\n",
       "    .dataframe thead th {\n",
       "        text-align: right;\n",
       "    }\n",
       "</style>\n",
       "<table border=\"1\" class=\"dataframe\">\n",
       "  <thead>\n",
       "    <tr style=\"text-align: right;\">\n",
       "      <th></th>\n",
       "      <th>Gender</th>\n",
       "      <th>Married</th>\n",
       "      <th>Dependents</th>\n",
       "      <th>Education</th>\n",
       "      <th>Self_Employed</th>\n",
       "      <th>ApplicantIncome</th>\n",
       "      <th>CoapplicantIncome</th>\n",
       "      <th>LoanAmount</th>\n",
       "      <th>Loan_Amount_Term</th>\n",
       "      <th>Credit_History</th>\n",
       "      <th>Property_Area</th>\n",
       "      <th>Loan_Status</th>\n",
       "    </tr>\n",
       "  </thead>\n",
       "  <tbody>\n",
       "    <tr>\n",
       "      <th>1</th>\n",
       "      <td>Male</td>\n",
       "      <td>Yes</td>\n",
       "      <td>1</td>\n",
       "      <td>Graduate</td>\n",
       "      <td>No</td>\n",
       "      <td>4583</td>\n",
       "      <td>1508.0</td>\n",
       "      <td>128.0</td>\n",
       "      <td>360.0</td>\n",
       "      <td>1.0</td>\n",
       "      <td>Rural</td>\n",
       "      <td>N</td>\n",
       "    </tr>\n",
       "    <tr>\n",
       "      <th>2</th>\n",
       "      <td>Male</td>\n",
       "      <td>Yes</td>\n",
       "      <td>0</td>\n",
       "      <td>Graduate</td>\n",
       "      <td>Yes</td>\n",
       "      <td>3000</td>\n",
       "      <td>0.0</td>\n",
       "      <td>66.0</td>\n",
       "      <td>360.0</td>\n",
       "      <td>1.0</td>\n",
       "      <td>Urban</td>\n",
       "      <td>Y</td>\n",
       "    </tr>\n",
       "    <tr>\n",
       "      <th>3</th>\n",
       "      <td>Male</td>\n",
       "      <td>Yes</td>\n",
       "      <td>0</td>\n",
       "      <td>Not Graduate</td>\n",
       "      <td>No</td>\n",
       "      <td>2583</td>\n",
       "      <td>2358.0</td>\n",
       "      <td>120.0</td>\n",
       "      <td>360.0</td>\n",
       "      <td>1.0</td>\n",
       "      <td>Urban</td>\n",
       "      <td>Y</td>\n",
       "    </tr>\n",
       "    <tr>\n",
       "      <th>4</th>\n",
       "      <td>Male</td>\n",
       "      <td>No</td>\n",
       "      <td>0</td>\n",
       "      <td>Graduate</td>\n",
       "      <td>No</td>\n",
       "      <td>6000</td>\n",
       "      <td>0.0</td>\n",
       "      <td>141.0</td>\n",
       "      <td>360.0</td>\n",
       "      <td>1.0</td>\n",
       "      <td>Urban</td>\n",
       "      <td>Y</td>\n",
       "    </tr>\n",
       "    <tr>\n",
       "      <th>5</th>\n",
       "      <td>Male</td>\n",
       "      <td>Yes</td>\n",
       "      <td>2</td>\n",
       "      <td>Graduate</td>\n",
       "      <td>Yes</td>\n",
       "      <td>5417</td>\n",
       "      <td>4196.0</td>\n",
       "      <td>267.0</td>\n",
       "      <td>360.0</td>\n",
       "      <td>1.0</td>\n",
       "      <td>Urban</td>\n",
       "      <td>Y</td>\n",
       "    </tr>\n",
       "  </tbody>\n",
       "</table>\n",
       "</div>"
      ],
      "text/plain": [
       "  Gender Married Dependents     Education Self_Employed  ApplicantIncome  \\\n",
       "1   Male     Yes          1      Graduate            No             4583   \n",
       "2   Male     Yes          0      Graduate           Yes             3000   \n",
       "3   Male     Yes          0  Not Graduate            No             2583   \n",
       "4   Male      No          0      Graduate            No             6000   \n",
       "5   Male     Yes          2      Graduate           Yes             5417   \n",
       "\n",
       "   CoapplicantIncome  LoanAmount  Loan_Amount_Term  Credit_History  \\\n",
       "1             1508.0       128.0             360.0             1.0   \n",
       "2                0.0        66.0             360.0             1.0   \n",
       "3             2358.0       120.0             360.0             1.0   \n",
       "4                0.0       141.0             360.0             1.0   \n",
       "5             4196.0       267.0             360.0             1.0   \n",
       "\n",
       "  Property_Area Loan_Status  \n",
       "1         Rural           N  \n",
       "2         Urban           Y  \n",
       "3         Urban           Y  \n",
       "4         Urban           Y  \n",
       "5         Urban           Y  "
      ]
     },
     "execution_count": 12,
     "metadata": {},
     "output_type": "execute_result"
    }
   ],
   "source": [
    "dataset.head()"
   ]
  },
  {
   "cell_type": "markdown",
   "id": "78091373",
   "metadata": {},
   "source": [
    "## Cleaning the data"
   ]
  },
  {
   "cell_type": "code",
   "execution_count": 61,
   "id": "cb770847",
   "metadata": {},
   "outputs": [
    {
     "data": {
      "text/plain": [
       "(480, 17)"
      ]
     },
     "execution_count": 61,
     "metadata": {},
     "output_type": "execute_result"
    }
   ],
   "source": [
    "# removing all the datapoints that have null values\n",
    "# this would leave us with ~78.18% of the orginal data\n",
    "nan_value = float(\"NaN\")\n",
    "dataset.replace('', nan_value, inplace=True)\n",
    "dataset.dropna(inplace=True)\n",
    "\n",
    "# one-hot encoding the categorical values\n",
    "g = dataset.select_dtypes(include=['object'])\n",
    "onehot_encoder = OneHotEncoder(handle_unknown='ignore')\n",
    "encodedFeatures = onehot_encoder.fit_transform(g).toarray()\n",
    "encodedFeatures.shape\n",
    "\n",
    "#encoded = pd.DataFrame().toarray())\n",
    "\n",
    "\n",
    "# one hot encoder sklearn\n",
    "# scaler \n",
    "\n",
    "#dataset[['Gender','Married','Dependents','Education','Self_Employed','Property_Area','Loan_Status']] = pd.DataFrame(onehot_encoder.fit_transform(dataset[['Gender','Married','Dependents','Education','Self_Employed','Property_Area','Loan_Status']]).toarray())"
   ]
  },
  {
   "cell_type": "code",
   "execution_count": 62,
   "id": "2e0edfb0",
   "metadata": {},
   "outputs": [
    {
     "data": {
      "text/plain": [
       "array([0., 1., 0., 1., 0., 1., 0., 0., 1., 0., 1., 0., 1., 0., 0., 1., 0.])"
      ]
     },
     "execution_count": 62,
     "metadata": {},
     "output_type": "execute_result"
    }
   ],
   "source": [
    "encodedVals[0]"
   ]
  },
  {
   "cell_type": "markdown",
   "id": "4da2010e",
   "metadata": {},
   "source": [
    "# Neural Network"
   ]
  },
  {
   "cell_type": "code",
   "execution_count": 85,
   "id": "7f76b6c5",
   "metadata": {},
   "outputs": [],
   "source": [
    "from sklearn.model_selection import train_test_split\n",
    "from sklearn.neural_network import MLPClassifier\n",
    "from sklearn.preprocessing import MinMaxScaler\n",
    "from sklearn.model_selection import GridSearchCV\n",
    "\n",
    "X = dataset.drop(columns=['Loan_Status'])\n",
    "Y = pd.get_dummies(dataset['Loan_Status'])\n",
    "\n",
    "\n",
    "\n",
    "# splitting the data 80:20\n",
    "train, test = train_test_split(dataset, test_size=0.2, random_state=21)\n"
   ]
  },
  {
   "cell_type": "code",
   "execution_count": 86,
   "id": "fda56759",
   "metadata": {},
   "outputs": [
    {
     "data": {
      "text/plain": [
       "(480, 5)"
      ]
     },
     "execution_count": 86,
     "metadata": {},
     "output_type": "execute_result"
    }
   ],
   "source": [
    "\n",
    "#get numerical features and scale them\n",
    "X_nums = dataset.select_dtypes(exclude=['object'])\n",
    "minmax_scaler = MinMaxScaler()\n",
    "\n",
    "X_nums_scaled = minmax_scaler.fit_transform(X_nums)\n",
    "\n",
    "X_nums.shape"
   ]
  },
  {
   "cell_type": "code",
   "execution_count": 87,
   "id": "36aa84a5",
   "metadata": {},
   "outputs": [
    {
     "data": {
      "text/plain": [
       "(480, 5)"
      ]
     },
     "execution_count": 87,
     "metadata": {},
     "output_type": "execute_result"
    }
   ],
   "source": [
    "X_nums_scaled.shape"
   ]
  },
  {
   "cell_type": "code",
   "execution_count": 88,
   "id": "b31aa7f4",
   "metadata": {},
   "outputs": [
    {
     "data": {
      "text/plain": [
       "array([0.05482993, 0.0445666 , 0.20135364, 0.72972973, 1.        ])"
      ]
     },
     "execution_count": 88,
     "metadata": {},
     "output_type": "execute_result"
    }
   ],
   "source": [
    "X_nums_scaled[0]\n"
   ]
  },
  {
   "cell_type": "code",
   "execution_count": 89,
   "id": "1d246182",
   "metadata": {},
   "outputs": [
    {
     "name": "stdout",
     "output_type": "stream",
     "text": [
      "(384, 22)\n",
      "(96, 2)\n"
     ]
    }
   ],
   "source": [
    "left = pd.DataFrame(encodedFeatures)\n",
    "right = pd.DataFrame(X_nums_scaled)\n",
    "\n",
    "#Join categorical and numerical Data Frames\n",
    "X_scaled = left.join(right, lsuffix='_left', rsuffix='_right')\n",
    "\n",
    "#Split and shuffle data\n",
    "X_train, X_test, y_train, y_test = train_test_split(X_scaled, Y, \n",
    "                                                    test_size=0.2, random_state=21)\n",
    "\n",
    "#y_test.apply(pd.to_numeric, errors='coerce')\n",
    "#y_test.fillna(0, inplace=True)\n",
    "\n",
    "print(X_train.shape)\n",
    "print(y_test.shape)"
   ]
  },
  {
   "cell_type": "code",
   "execution_count": 95,
   "id": "d5081cb2",
   "metadata": {},
   "outputs": [
    {
     "data": {
      "text/plain": [
       "MLPClassifier(batch_size=24, hidden_layer_sizes=(12, 1),\n",
       "              learning_rate_init=0.05, random_state=21, solver='sgd')"
      ]
     },
     "execution_count": 95,
     "metadata": {},
     "output_type": "execute_result"
    }
   ],
   "source": [
    "#fit to MLP classifier\n",
    "mlp = MLPClassifier(solver='sgd', random_state=21, activation='relu',\n",
    "                   learning_rate_init=0.05, batch_size = 24, hidden_layer_sizes=(12,1), max_iter=200)\n",
    "mlp"
   ]
  },
  {
   "cell_type": "code",
   "execution_count": 96,
   "id": "43eaa9e6",
   "metadata": {},
   "outputs": [],
   "source": [
    "mlp.fit(X_train, y_train)\n",
    "\n",
    "predictions = mlp.predict(X_test)"
   ]
  },
  {
   "cell_type": "code",
   "execution_count": 97,
   "id": "79bac49e",
   "metadata": {},
   "outputs": [
    {
     "name": "stdout",
     "output_type": "stream",
     "text": [
      "Accuracy :  1.0\n",
      "Mean Square Error :  0.0\n",
      "Confusion Matrix for each label : \n",
      "[[[61  0]\n",
      "  [ 0 35]]\n",
      "\n",
      " [[35  0]\n",
      "  [ 0 61]]]\n",
      "Classification Report : \n",
      "              precision    recall  f1-score   support\n",
      "\n",
      "           0       1.00      1.00      1.00        35\n",
      "           1       1.00      1.00      1.00        61\n",
      "\n",
      "   micro avg       1.00      1.00      1.00        96\n",
      "   macro avg       1.00      1.00      1.00        96\n",
      "weighted avg       1.00      1.00      1.00        96\n",
      " samples avg       1.00      1.00      1.00        96\n",
      "\n"
     ]
    }
   ],
   "source": [
    "from sklearn.metrics import classification_report, confusion_matrix, multilabel_confusion_matrix\n",
    "from sklearn.metrics import mean_squared_error, accuracy_score, precision_score, recall_score\n",
    "\n",
    "print(\"Accuracy : \", accuracy_score(y_test, predictions))\n",
    "print(\"Mean Square Error : \", mean_squared_error(y_test, predictions))\n",
    "\n",
    "print(\"Confusion Matrix for each label : \")\n",
    "print(multilabel_confusion_matrix(y_test, predictions))\n",
    "\n",
    "print(\"Classification Report : \")\n",
    "print(classification_report(y_test, predictions))"
   ]
  },
  {
   "cell_type": "code",
   "execution_count": 93,
   "id": "bd07f25e",
   "metadata": {},
   "outputs": [
    {
     "data": {
      "text/plain": [
       "GridSearchCV(estimator=MLPClassifier(batch_size=24, hidden_layer_sizes=(12, 3),\n",
       "                                     learning_rate_init=0.03, max_iter=500,\n",
       "                                     random_state=21, solver='sgd'),\n",
       "             param_grid={'hidden_layer_sizes': [(12, 1), (12, 2), (12, 3),\n",
       "                                                (12, 4), (24, 1), (24, 2),\n",
       "                                                (24, 3), (24, 4), (36, 1),\n",
       "                                                (36, 2), (36, 3), (36, 4),\n",
       "                                                (48, 1), (48, 2), (48, 3),\n",
       "                                                (48, 4)],\n",
       "                         'learning_rate_init': array([0.05, 0.1 , 0.15, 0.2 ]),\n",
       "                         'max_iter': [200, 500, 800]})"
      ]
     },
     "execution_count": 93,
     "metadata": {},
     "output_type": "execute_result"
    }
   ],
   "source": [
    "#Grid Search to optimize algorithm\n",
    "\n",
    "max_iter_test = [200, 500, 800]\n",
    "hidden_layer_sizes_test = [(a, b) for a in 12 * np.arange(1,5) for b in 1 * np.arange(1, 5)]\n",
    "\n",
    "learning_rates = 0.05 * np.arange(1,5)\n",
    "\n",
    "param_grid_test = dict(learning_rate_init=learning_rates, hidden_layer_sizes=hidden_layer_sizes_test,\n",
    "                 max_iter=max_iter_test)\n",
    "\n",
    "grid = GridSearchCV(estimator=mlp, param_grid=param_grid_test)\n",
    "\n",
    "grid.fit(X_scaled, Y)"
   ]
  },
  {
   "cell_type": "code",
   "execution_count": 94,
   "id": "9b6e7fba",
   "metadata": {},
   "outputs": [
    {
     "name": "stdout",
     "output_type": "stream",
     "text": [
      "Optimal Hyper-parameters :  {'hidden_layer_sizes': (12, 1), 'learning_rate_init': 0.05, 'max_iter': 200}\n",
      "Optimal Accuracy :  1.0\n"
     ]
    }
   ],
   "source": [
    "print(\"Optimal Hyper-parameters : \", grid.best_params_)\n",
    "print(\"Optimal Accuracy : \", grid.best_score_)"
   ]
  },
  {
   "cell_type": "code",
   "execution_count": null,
   "id": "df4e522c",
   "metadata": {},
   "outputs": [],
   "source": []
  }
 ],
 "metadata": {
  "kernelspec": {
   "display_name": "Python 3",
   "language": "python",
   "name": "python3"
  },
  "language_info": {
   "codemirror_mode": {
    "name": "ipython",
    "version": 3
   },
   "file_extension": ".py",
   "mimetype": "text/x-python",
   "name": "python",
   "nbconvert_exporter": "python",
   "pygments_lexer": "ipython3",
   "version": "3.8.5"
  }
 },
 "nbformat": 4,
 "nbformat_minor": 5
}
