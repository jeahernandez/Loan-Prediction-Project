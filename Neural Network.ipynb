{
 "cells": [
  {
   "cell_type": "markdown",
   "id": "8ea4fe41",
   "metadata": {},
   "source": [
    "# Loan Prediction Project: Neural Network Model"
   ]
  },
  {
   "cell_type": "markdown",
   "id": "338fa9e1",
   "metadata": {},
   "source": [
    "Some basic notes about the NN we are creating here\n",
    " - We are splitting the train and test set 80:20\n",
    " - This is a with a 22x3 NN with a learning rate of 5"
   ]
  },
  {
   "cell_type": "markdown",
   "id": "2b78734f",
   "metadata": {},
   "source": [
    "## Libraries used"
   ]
  },
  {
   "cell_type": "code",
   "execution_count": 13,
   "id": "71522e66",
   "metadata": {},
   "outputs": [
    {
     "name": "stdout",
     "output_type": "stream",
     "text": [
      "<class 'pandas.core.frame.DataFrame'>\n",
      "RangeIndex: 614 entries, 0 to 613\n",
      "Data columns (total 13 columns):\n",
      " #   Column             Non-Null Count  Dtype  \n",
      "---  ------             --------------  -----  \n",
      " 0   Loan_ID            614 non-null    object \n",
      " 1   Gender             601 non-null    object \n",
      " 2   Married            611 non-null    object \n",
      " 3   Dependents         599 non-null    object \n",
      " 4   Education          614 non-null    object \n",
      " 5   Self_Employed      582 non-null    object \n",
      " 6   ApplicantIncome    614 non-null    int64  \n",
      " 7   CoapplicantIncome  614 non-null    float64\n",
      " 8   LoanAmount         592 non-null    float64\n",
      " 9   Loan_Amount_Term   600 non-null    float64\n",
      " 10  Credit_History     564 non-null    float64\n",
      " 11  Property_Area      614 non-null    object \n",
      " 12  Loan_Status        614 non-null    object \n",
      "dtypes: float64(4), int64(1), object(8)\n",
      "memory usage: 62.5+ KB\n"
     ]
    }
   ],
   "source": [
    "import pandas as pd\n",
    "import numpy as np\n",
    "from sklearn.model_selection import train_test_split\n",
    "from sklearn.neural_network import MLPClassifier\n",
    "from sklearn.model_selection import GridSearchCV\n",
    "from sklearn.preprocessing import MinMaxScaler\n",
    "from sklearn.preprocessing import LabelEncoder \n",
    "from sklearn.preprocessing import OneHotEncoder\n",
    "\n",
    "from sklearn.metrics import classification_report, confusion_matrix, multilabel_confusion_matrix\n",
    "from sklearn.metrics import mean_squared_error, accuracy_score, precision_score, recall_score\n",
    "\n",
    "dataset = pd.read_csv(\"train_u6lujuX_CVtuZ9i.csv\")\n",
    "dataset.info()"
   ]
  },
  {
   "cell_type": "markdown",
   "id": "201bbe28",
   "metadata": {},
   "source": [
    "## Data preprocessing"
   ]
  },
  {
   "cell_type": "code",
   "execution_count": 14,
   "id": "64819e8b",
   "metadata": {},
   "outputs": [
    {
     "name": "stdout",
     "output_type": "stream",
     "text": [
      "Dimensions of the dataset :  (480, 13)\n"
     ]
    },
    {
     "data": {
      "text/plain": [
       "(480, 497)"
      ]
     },
     "execution_count": 14,
     "metadata": {},
     "output_type": "execute_result"
    }
   ],
   "source": [
    "# removing all the datapoints that have null values\n",
    "nan_value = float(\"NaN\")\n",
    "dataset.replace('', nan_value, inplace=True)\n",
    "dataset.dropna(inplace=True)\n",
    "print(\"Dimensions of the dataset : \", dataset.shape)\n",
    "\n",
    "# one-hot encoding all the categorical values\n",
    "g = dataset.select_dtypes(include=['object'])\n",
    "onehot_encoder = OneHotEncoder(handle_unknown='ignore')\n",
    "encodedFeatures = onehot_encoder.fit_transform(g).toarray()\n",
    "encodedFeatures.shape"
   ]
  },
  {
   "cell_type": "markdown",
   "id": "db8ba210",
   "metadata": {},
   "source": [
    "## Neural Network"
   ]
  },
  {
   "cell_type": "code",
   "execution_count": 15,
   "id": "270dd0e7",
   "metadata": {},
   "outputs": [],
   "source": [
    "X = dataset.drop(columns=['Loan_Status'])\n",
    "Y = pd.get_dummies(dataset['Loan_Status'])"
   ]
  },
  {
   "cell_type": "code",
   "execution_count": 16,
   "id": "c0989357",
   "metadata": {},
   "outputs": [
    {
     "name": "stdout",
     "output_type": "stream",
     "text": [
      "(480, 5)\n",
      "(480, 5)\n",
      "[0.05482993 0.0445666  0.20135364 0.72972973 1.        ]\n"
     ]
    }
   ],
   "source": [
    "#get numerical features and scale them\n",
    "X_nums = dataset.select_dtypes(exclude=['object'])\n",
    "minmax_scaler = MinMaxScaler()\n",
    "\n",
    "X_nums_scaled = minmax_scaler.fit_transform(X_nums)\n",
    "\n",
    "print(X_nums.shape)\n",
    "print(X_nums_scaled.shape)\n",
    "print(X_nums_scaled[0])"
   ]
  },
  {
   "cell_type": "code",
   "execution_count": 17,
   "id": "969b18b6",
   "metadata": {},
   "outputs": [
    {
     "name": "stdout",
     "output_type": "stream",
     "text": [
      "(336, 502)\n",
      "(144, 2)\n"
     ]
    }
   ],
   "source": [
    "left = pd.DataFrame(encodedFeatures)\n",
    "right = pd.DataFrame(X_nums_scaled)\n",
    "\n",
    "# Join categorical and numerical Data Frames\n",
    "X_scaled = left.join(right, lsuffix='_left', rsuffix='_right')\n",
    "\n",
    "# Split and shuffle data 80:20\n",
    "X_train, X_test, y_train, y_test = train_test_split(X_scaled, Y, \n",
    "                                                    test_size=0.3, random_state=21)\n",
    "\n",
    "# y_test.apply(pd.to_numeric, errors='coerce')\n",
    "# y_test.fillna(0, inplace=True)\n",
    "\n",
    "print(X_train.shape)\n",
    "print(y_test.shape)"
   ]
  },
  {
   "cell_type": "code",
   "execution_count": 20,
   "id": "7e9b8ea3",
   "metadata": {},
   "outputs": [],
   "source": [
    "# fit to MLP classifier\n",
    "mlp = MLPClassifier(solver='sgd', random_state=21, activation='relu',\n",
    "                   learning_rate_init=0.05, batch_size = 24, hidden_layer_sizes=(12,1), max_iter=200)\n",
    "mlp\n",
    "\n",
    "mlp.fit(X_train, y_train)\n",
    "predictions = mlp.predict(X_test)"
   ]
  },
  {
   "cell_type": "code",
   "execution_count": 21,
   "id": "e550b3d0",
   "metadata": {},
   "outputs": [
    {
     "name": "stdout",
     "output_type": "stream",
     "text": [
      "Accuracy :  1.0\n",
      "Mean Square Error :  0.0\n",
      "Confusion Matrix for each label : \n",
      "[[[92  0]\n",
      "  [ 0 52]]\n",
      "\n",
      " [[52  0]\n",
      "  [ 0 92]]]\n",
      "Classification Report : \n",
      "              precision    recall  f1-score   support\n",
      "\n",
      "           0       1.00      1.00      1.00        52\n",
      "           1       1.00      1.00      1.00        92\n",
      "\n",
      "   micro avg       1.00      1.00      1.00       144\n",
      "   macro avg       1.00      1.00      1.00       144\n",
      "weighted avg       1.00      1.00      1.00       144\n",
      " samples avg       1.00      1.00      1.00       144\n",
      "\n"
     ]
    }
   ],
   "source": [
    "print(\"Accuracy : \", accuracy_score(y_test, predictions))\n",
    "print(\"Mean Square Error : \", mean_squared_error(y_test, predictions))\n",
    "\n",
    "print(\"Confusion Matrix for each label : \")\n",
    "print(multilabel_confusion_matrix(y_test, predictions))\n",
    "\n",
    "print(\"Classification Report : \")\n",
    "print(classification_report(y_test, predictions))"
   ]
  },
  {
   "cell_type": "code",
   "execution_count": null,
   "id": "a54050b8",
   "metadata": {},
   "outputs": [],
   "source": [
    "# Grid Search to optimize algorithm\n",
    "\n",
    "max_iter_test = [200, 500, 800]\n",
    "hidden_layer_sizes_test = [(a, b) for a in 12 * np.arange(1,5) for b in 1 * np.arange(1, 5)]\n",
    "\n",
    "learning_rates = 0.05 * np.arange(1,5)\n",
    "\n",
    "param_grid_test = dict(learning_rate_init=learning_rates, hidden_layer_sizes=hidden_layer_sizes_test,\n",
    "                 max_iter=max_iter_test)\n",
    "\n",
    "grid = GridSearchCV(estimator=mlp, param_grid=param_grid_test)\n",
    "\n",
    "grid.fit(X_scaled, Y)"
   ]
  }
 ],
 "metadata": {
  "kernelspec": {
   "display_name": "Python 3",
   "language": "python",
   "name": "python3"
  },
  "language_info": {
   "codemirror_mode": {
    "name": "ipython",
    "version": 3
   },
   "file_extension": ".py",
   "mimetype": "text/x-python",
   "name": "python",
   "nbconvert_exporter": "python",
   "pygments_lexer": "ipython3",
   "version": "3.9.5"
  }
 },
 "nbformat": 4,
 "nbformat_minor": 5
}
